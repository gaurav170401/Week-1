{
 "cells": [
  {
   "cell_type": "markdown",
   "metadata": {},
   "source": [
    "# cricbuzz-scraping-project\n",
    "\n",
    "Use the \"Run\" button to execute the code."
   ]
  },
  {
   "cell_type": "markdown",
   "metadata": {},
   "source": [
    "## Pick a website and describe your objective"
   ]
  },
  {
   "cell_type": "markdown",
   "metadata": {},
   "source": [
    "Outline:\n",
    "- We're going to scrape https://www.cricbuzz.com/cricket-stats/icc-rankings/men/batting\n",
    "- We'll get a list of topics. For each topic, we'll get topic title and topic page URL\n",
    "- For each repository, we'll grab repo name, username and repo URL\n",
    "- For each topic, we'll create csv file."
   ]
  },
  {
   "cell_type": "code",
   "execution_count": 1,
   "metadata": {},
   "outputs": [],
   "source": [
    "!pip install requests --upgrade --quiet"
   ]
  },
  {
   "cell_type": "code",
   "execution_count": 2,
   "metadata": {},
   "outputs": [],
   "source": [
    "import requests"
   ]
  },
  {
   "cell_type": "code",
   "execution_count": 11,
   "metadata": {},
   "outputs": [],
   "source": [
    "topic_url = 'https://www.cricbuzz.com/cricket-stats/icc-rankings/men/batting'"
   ]
  },
  {
   "cell_type": "code",
   "execution_count": 12,
   "metadata": {},
   "outputs": [],
   "source": [
    "response = requests.get(topic_url)"
   ]
  },
  {
   "cell_type": "code",
   "execution_count": 60,
   "metadata": {},
   "outputs": [
    {
     "data": {
      "text/plain": [
       "200"
      ]
     },
     "execution_count": 60,
     "metadata": {},
     "output_type": "execute_result"
    }
   ],
   "source": [
    "response.status_code"
   ]
  },
  {
   "cell_type": "code",
   "execution_count": 14,
   "metadata": {},
   "outputs": [
    {
     "data": {
      "text/plain": [
       "312440"
      ]
     },
     "execution_count": 14,
     "metadata": {},
     "output_type": "execute_result"
    }
   ],
   "source": [
    "len(response.text)"
   ]
  },
  {
   "cell_type": "code",
   "execution_count": 15,
   "metadata": {},
   "outputs": [],
   "source": [
    "page_contents = response.text"
   ]
  },
  {
   "cell_type": "code",
   "execution_count": 16,
   "metadata": {},
   "outputs": [
    {
     "data": {
      "text/plain": [
       "'\\r\\n\\r\\n<!DOCTYPE html><html lang=\"en\" itemscope itemtype=\"http://schema.org/WebPage\"><head><meta charset=\"utf-8\"><script>var is_mobile = /symbian|tizen|midp|uc(web|browser)|MSIE (5.0|6.0|7.0|8.0)|tablet/i.test(navigator.userAgent);\\tif(is_mobile && window.location.hostname != \"www1.cricbuzz.com\") window.location.hostname = \"m.cricbuzz.com\";</script><style>body{background:#E3E6E3; font-family: helvetica,\"Segoe UI\",Arial,sans-serif;color:#222;font-size:14px; line-height: 1.5; margin:0;}\\tbody, .cb-comm-pg, .cb-hm-mid {min-height:1000px}\\t.container{width:980px;margin:0 auto;}\\t.page{max-width: 980px;margin: 0 auto;position: relative;}\\t.cb-col-8 {width:8%;}\\t.cb-col-10 {width:10%;}\\t.cb-col-14 {width:14%;}\\t.cb-col-16 {width:16%;}\\t.cb-col-20 {width:20%;}\\t.cb-col-25 {width:25%;}\\t.cb-col-27 {width:27%;}\\t.cb-col-30 {width:30%;}\\t.cb-col-33 {width:33%;}\\t.cb-col-40 {width:40%;}\\t.cb-col-46 {width:46%;}\\t.cb-col-47 {width:47%;}\\t.cb-col-50 {width:50%;}\\t.cb-col-60 {width:60%;}\\t.cb-col-65 {width:65%;}\\t.cb-col-'"
      ]
     },
     "execution_count": 16,
     "metadata": {},
     "output_type": "execute_result"
    }
   ],
   "source": [
    "page_contents[:1000]"
   ]
  },
  {
   "cell_type": "code",
   "execution_count": 17,
   "metadata": {},
   "outputs": [],
   "source": [
    "with open('webpage.html','w')as f:\n",
    "    f.write(page_contents)"
   ]
  },
  {
   "cell_type": "markdown",
   "metadata": {},
   "source": [
    "## Use beautiful soup to parse and extract information"
   ]
  },
  {
   "cell_type": "code",
   "execution_count": 18,
   "metadata": {},
   "outputs": [],
   "source": [
    "!pip install beautifulsoup4 --upgrade --quiet"
   ]
  },
  {
   "cell_type": "code",
   "execution_count": 19,
   "metadata": {},
   "outputs": [],
   "source": [
    "from bs4 import BeautifulSoup"
   ]
  },
  {
   "cell_type": "code",
   "execution_count": 20,
   "metadata": {},
   "outputs": [],
   "source": [
    "doc = BeautifulSoup(page_contents,'html.parser')"
   ]
  },
  {
   "cell_type": "code",
   "execution_count": 21,
   "metadata": {},
   "outputs": [
    {
     "data": {
      "text/plain": [
       "bs4.BeautifulSoup"
      ]
     },
     "execution_count": 21,
     "metadata": {},
     "output_type": "execute_result"
    }
   ],
   "source": [
    "type(doc)"
   ]
  },
  {
   "cell_type": "code",
   "execution_count": 41,
   "metadata": {},
   "outputs": [],
   "source": [
    "selection_class = 'text-white'\n",
    "topic_title_tags = doc.find_all('a',{'class': selection_class})"
   ]
  },
  {
   "cell_type": "code",
   "execution_count": 42,
   "metadata": {},
   "outputs": [
    {
     "data": {
      "text/plain": [
       "19"
      ]
     },
     "execution_count": 42,
     "metadata": {},
     "output_type": "execute_result"
    }
   ],
   "source": [
    "len(topic_title_tags)"
   ]
  },
  {
   "cell_type": "code",
   "execution_count": 43,
   "metadata": {},
   "outputs": [
    {
     "data": {
      "text/plain": [
       "[<a class=\"text-white\" href=\"/cricket-news\" target=\"_self\">News</a>,\n",
       " <a class=\"text-white\" href=\"/cricket-schedule/series\" target=\"_self\">Series</a>,\n",
       " <a class=\"text-white\" href=\"/cricket-team\" target=\"_self\">Teams</a>,\n",
       " <a class=\"text-white\" href=\"/cricket-videos\" target=\"_self\">Videos</a>,\n",
       " <a class=\"text-white\" href=\"/cricket-stats/icc-rankings/men/batting\">Rankings</a>]"
      ]
     },
     "execution_count": 43,
     "metadata": {},
     "output_type": "execute_result"
    }
   ],
   "source": [
    "topic_title_tags[:5]"
   ]
  },
  {
   "cell_type": "code",
   "execution_count": 46,
   "metadata": {},
   "outputs": [],
   "source": [
    "topic_title_tag4 = topic_title_tags[4]"
   ]
  },
  {
   "cell_type": "code",
   "execution_count": 47,
   "metadata": {},
   "outputs": [
    {
     "data": {
      "text/plain": [
       "<div class=\"cb-subnav cb-hm-mnu-itm feature-button cursor-pointer\" id=\"rankingDropDown\" title=\"ICC Rankings\"><a class=\"text-white\" href=\"/cricket-stats/icc-rankings/men/batting\">Rankings</a><span class=\"cb-caret-down\"></span><nav class=\"cb-sub-navigation\"><a class=\"cb-subnav-item\" href=\"/cricket-stats/icc-rankings/men/batting\" target=\"_self\" title=\"ICC Rankings Men\">ICC Rankings - Men</a><a class=\"cb-subnav-item\" href=\"/cricket-stats/icc-rankings/women/batting\" target=\"_self\" title=\"ICC Rankings Women\">ICC Rankings - Women</a></nav></div>"
      ]
     },
     "execution_count": 47,
     "metadata": {},
     "output_type": "execute_result"
    }
   ],
   "source": [
    "topic_title_tag4.parent"
   ]
  },
  {
   "cell_type": "code",
   "execution_count": 53,
   "metadata": {},
   "outputs": [],
   "source": [
    "topic_link_tags = doc.find_all('a',{'class':'text-white'})"
   ]
  },
  {
   "cell_type": "code",
   "execution_count": 54,
   "metadata": {},
   "outputs": [
    {
     "data": {
      "text/plain": [
       "19"
      ]
     },
     "execution_count": 54,
     "metadata": {},
     "output_type": "execute_result"
    }
   ],
   "source": [
    "len(topic_link_tags)"
   ]
  },
  {
   "cell_type": "code",
   "execution_count": 58,
   "metadata": {},
   "outputs": [
    {
     "name": "stdout",
     "output_type": "stream",
     "text": [
      "https://www.cricbuzz.com/cricket-stats/icc-rankings/men/batting\n"
     ]
    }
   ],
   "source": [
    "topic0_url = \"https://www.cricbuzz.com\" + topic_link_tags[4]['href']\n",
    "print(topic0_url)"
   ]
  },
  {
   "cell_type": "code",
   "execution_count": 105,
   "metadata": {},
   "outputs": [
    {
     "name": "stdout",
     "output_type": "stream",
     "text": [
      "['News', 'Series', 'Teams', 'Videos', 'Rankings']\n"
     ]
    }
   ],
   "source": [
    "topic_titles = []\n",
    "for tag in topic_title_tags[0:5]:\n",
    "    topic_titles.append(tag.text)\n",
    "print(topic_titles)"
   ]
  },
  {
   "cell_type": "code",
   "execution_count": 106,
   "metadata": {},
   "outputs": [
    {
     "data": {
      "text/plain": [
       "['https://www.cricbuzz.com/cricket-news',\n",
       " 'https://www.cricbuzz.com/cricket-schedule/series',\n",
       " 'https://www.cricbuzz.com/cricket-team',\n",
       " 'https://www.cricbuzz.com/cricket-videos',\n",
       " 'https://www.cricbuzz.com/cricket-stats/icc-rankings/men/batting']"
      ]
     },
     "execution_count": 106,
     "metadata": {},
     "output_type": "execute_result"
    }
   ],
   "source": [
    "topic_urls = []\n",
    "base_url = 'https://www.cricbuzz.com'\n",
    "for tag in topic_link_tags[0:5]:\n",
    "    topic_urls.append(base_url + tag.get('href'))\n",
    "    \n",
    "topic_urls"
   ]
  },
  {
   "cell_type": "code",
   "execution_count": 107,
   "metadata": {},
   "outputs": [],
   "source": [
    "!pip install pandas --quiet"
   ]
  },
  {
   "cell_type": "code",
   "execution_count": 108,
   "metadata": {},
   "outputs": [],
   "source": [
    "import pandas as pd"
   ]
  },
  {
   "cell_type": "code",
   "execution_count": 110,
   "metadata": {},
   "outputs": [],
   "source": [
    "topics_dict = {\n",
    "    'title': topic_titles,\n",
    "    'url': topic_urls,\n",
    "}"
   ]
  },
  {
   "cell_type": "code",
   "execution_count": 111,
   "metadata": {},
   "outputs": [
    {
     "data": {
      "text/plain": [
       "{'title': ['News', 'Series', 'Teams', 'Videos', 'Rankings'],\n",
       " 'url': ['https://www.cricbuzz.com/cricket-news',\n",
       "  'https://www.cricbuzz.com/cricket-schedule/series',\n",
       "  'https://www.cricbuzz.com/cricket-team',\n",
       "  'https://www.cricbuzz.com/cricket-videos',\n",
       "  'https://www.cricbuzz.com/cricket-stats/icc-rankings/men/batting']}"
      ]
     },
     "execution_count": 111,
     "metadata": {},
     "output_type": "execute_result"
    }
   ],
   "source": [
    "topics_dict"
   ]
  },
  {
   "cell_type": "code",
   "execution_count": 112,
   "metadata": {},
   "outputs": [],
   "source": [
    "topics_df = pd.DataFrame(topics_dict)"
   ]
  },
  {
   "cell_type": "code",
   "execution_count": 113,
   "metadata": {},
   "outputs": [
    {
     "data": {
      "text/html": [
       "<div>\n",
       "<style scoped>\n",
       "    .dataframe tbody tr th:only-of-type {\n",
       "        vertical-align: middle;\n",
       "    }\n",
       "\n",
       "    .dataframe tbody tr th {\n",
       "        vertical-align: top;\n",
       "    }\n",
       "\n",
       "    .dataframe thead th {\n",
       "        text-align: right;\n",
       "    }\n",
       "</style>\n",
       "<table border=\"1\" class=\"dataframe\">\n",
       "  <thead>\n",
       "    <tr style=\"text-align: right;\">\n",
       "      <th></th>\n",
       "      <th>title</th>\n",
       "      <th>url</th>\n",
       "    </tr>\n",
       "  </thead>\n",
       "  <tbody>\n",
       "    <tr>\n",
       "      <th>0</th>\n",
       "      <td>News</td>\n",
       "      <td>https://www.cricbuzz.com/cricket-news</td>\n",
       "    </tr>\n",
       "    <tr>\n",
       "      <th>1</th>\n",
       "      <td>Series</td>\n",
       "      <td>https://www.cricbuzz.com/cricket-schedule/series</td>\n",
       "    </tr>\n",
       "    <tr>\n",
       "      <th>2</th>\n",
       "      <td>Teams</td>\n",
       "      <td>https://www.cricbuzz.com/cricket-team</td>\n",
       "    </tr>\n",
       "    <tr>\n",
       "      <th>3</th>\n",
       "      <td>Videos</td>\n",
       "      <td>https://www.cricbuzz.com/cricket-videos</td>\n",
       "    </tr>\n",
       "    <tr>\n",
       "      <th>4</th>\n",
       "      <td>Rankings</td>\n",
       "      <td>https://www.cricbuzz.com/cricket-stats/icc-ran...</td>\n",
       "    </tr>\n",
       "  </tbody>\n",
       "</table>\n",
       "</div>"
      ],
      "text/plain": [
       "      title                                                url\n",
       "0      News              https://www.cricbuzz.com/cricket-news\n",
       "1    Series   https://www.cricbuzz.com/cricket-schedule/series\n",
       "2     Teams              https://www.cricbuzz.com/cricket-team\n",
       "3    Videos            https://www.cricbuzz.com/cricket-videos\n",
       "4  Rankings  https://www.cricbuzz.com/cricket-stats/icc-ran..."
      ]
     },
     "execution_count": 113,
     "metadata": {},
     "output_type": "execute_result"
    }
   ],
   "source": [
    "topics_df"
   ]
  },
  {
   "cell_type": "markdown",
   "metadata": {},
   "source": [
    "## Create CSV file with extracted information"
   ]
  },
  {
   "cell_type": "code",
   "execution_count": 115,
   "metadata": {},
   "outputs": [],
   "source": [
    "topics_df.to_csv('topics.csv',index=None)"
   ]
  },
  {
   "cell_type": "code",
   "execution_count": null,
   "metadata": {},
   "outputs": [],
   "source": []
  },
  {
   "cell_type": "code",
   "execution_count": null,
   "metadata": {},
   "outputs": [],
   "source": []
  },
  {
   "cell_type": "code",
   "execution_count": null,
   "metadata": {},
   "outputs": [],
   "source": []
  },
  {
   "cell_type": "code",
   "execution_count": null,
   "metadata": {},
   "outputs": [],
   "source": []
  },
  {
   "cell_type": "code",
   "execution_count": null,
   "metadata": {},
   "outputs": [],
   "source": []
  }
 ],
 "metadata": {
  "kernelspec": {
   "display_name": "Python 3",
   "language": "python",
   "name": "python3"
  },
  "language_info": {
   "codemirror_mode": {
    "name": "ipython",
    "version": 3
   },
   "file_extension": ".py",
   "mimetype": "text/x-python",
   "name": "python",
   "nbconvert_exporter": "python",
   "pygments_lexer": "ipython3",
   "version": "3.8.8"
  }
 },
 "nbformat": 4,
 "nbformat_minor": 2
}
